{
 "cells": [
  {
   "cell_type": "markdown",
   "metadata": {},
   "source": [
    "# Instructions 2 - checking git\n",
    "We use google cloud *managed services* to work with big data. *Managed services* run on premisses (on the cloud), as you demand it. You dont need to have a permanent VM instance, you dont need to think about . You create it whenever you are going to process data.\n",
    "After you are finished, delete the instance, so you will not get charged for that. You basically use the following on the google cloud platform:\n",
    "    \n",
    "# Job flow\n",
    "\n",
    "* **VM instance** (you create only when you are going to use it. Delete it when you are finished). You create the instance to run Jupyter notebooks.\n",
    "> Run the VM on the lsf-ztrax project (either one you had stoped or a new one)\n",
    "> Open Jupyter notebook. This will be saved on git repository.\n",
    "\n",
    "* **Big query** (query large datasets and use the output on your analysis)\n",
    "> Big query uses SQL to query gigantic datasets (ex: take only needed columns or statistics about that will be used for analysis.\n",
    "\n",
    "> \n",
    "\n",
    "* **Cloud storage** (buckets)\n",
    "                                                 \n",
    "                                                 We use google cloud *managed services* to work with big data. *Managed services* run on premisses (on the cloud), as you demand it. You dont need to have a permanent VM instance, you dont need to think about . You create it whenever you are going to process data.\n",
    "After you are finished, delete the instance, so you will not get charged for that. You basically use the following on the google cloud platform:\n",
    "    \n",
    "# Job flow\n",
    "\n",
    "* **VM instance** (you create only when you are going to use it. Delete it when you are finished). You create the instance to run Jupyter notebooks.\n",
    "> Run the VM on the lsf-ztrax project (either one you had stoped or a new one)\n",
    "> Open Jupyter notebook. This will be saved on git repository.\n",
    "\n",
    "* **Big query** (query large datasets and use the output on your analysis)\n",
    "> Big query uses SQL to query gigantic datasets (ex: take only needed columns or statistics about that will be used for analysis.\n",
    "\n",
    "> \n",
    "\n",
    "* **Cloud storage** (buckets)\n",
    "                                                 \n",
    "                                                 ### Instructions\n",
    "\n",
    "Go to google cloud console https://console.cloud.google.com/\n",
    "Choose project `lsf-ztrax`\n",
    "On `navigation menu` scroll down until `AI Platform`\n",
    "Select `notebooks`\n",
    "On top Of the page (bellow the blue ribbon, select `create a new instance` -> `Tensor Flow enterproise 1.15` -> `without GPU``\n",
    "\n",
    "<font color='grey'>\n",
    "\n",
    "> *We still need to check how much we are charged for provisioning x attached resources to decide if it is better to delete it and provision a new one next time, or jjust to stop it.\n",
    "\n",
    ">PROVISIONING - resources are allocated for the instance. The instance is not running yet.\n",
    "STAGING - Resources have been acquired and the instance is being prepared for first boot (around 4 minutes).\n",
    "RUNNING - The instance is booting up or running. You can connect to the instance shortly after it enters this state.*\n",
    "</font>\n",
    "\n",
    "When you stop the instance you can still be charged for the the resources attached to the VM instance (i.e. static IPs and persistent disk data). \n",
    "\n",
    "TERMINATED - A user stopped the instance, or the instance encountered a failure. Start the instance again or delete it.\n",
    "\n"
   ]
  },
  {
   "cell_type": "code",
   "execution_count": null,
   "metadata": {},
   "outputs": [],
   "source": []
  }
 ],
 "metadata": {
  "kernelspec": {
   "display_name": "Python 3",
   "language": "python",
   "name": "python3"
  },
  "language_info": {
   "codemirror_mode": {
    "name": "ipython",
    "version": 3
   },
   "file_extension": ".py",
   "mimetype": "text/x-python",
   "name": "python",
   "nbconvert_exporter": "python",
   "pygments_lexer": "ipython3",
   "version": "3.7.4"
  }
 },
 "nbformat": 4,
 "nbformat_minor": 2
}
