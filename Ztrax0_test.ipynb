{
  "nbformat": 4,
  "nbformat_minor": 0,
  "metadata": {
    "colab": {
      "name": "Ztrax0_test.ipynb",
      "provenance": [],
      "authorship_tag": "ABX9TyOkG6NjrhUwPzDbpeV/nczn",
      "include_colab_link": true
    },
    "kernelspec": {
      "name": "python3",
      "display_name": "Python 3"
    }
  },
  "cells": [
    {
      "cell_type": "markdown",
      "metadata": {
        "id": "view-in-github",
        "colab_type": "text"
      },
      "source": [
        "<a href=\"https://colab.research.google.com/github/mrspatbile/Ztrax/blob/master/Ztrax0_test.ipynb\" target=\"_parent\"><img src=\"https://colab.research.google.com/assets/colab-badge.svg\" alt=\"Open In Colab\"/></a>"
      ]
    },
    {
      "cell_type": "markdown",
      "metadata": {
        "id": "VvtZGeuFUq9c",
        "colab_type": "text"
      },
      "source": [
        "Link colab, drive and cloud for my Ztrax project"
      ]
    },
    {
      "cell_type": "code",
      "metadata": {
        "id": "302Rl9twVOvG",
        "colab_type": "code",
        "colab": {
          "base_uri": "https://localhost:8080/",
          "height": 122
        },
        "outputId": "502c5212-f99d-4943-fb08-473a574c7119"
      },
      "source": [
        "#mount gdrive\n",
        "from google.colab import drive\n",
        "drive.mount('/gdrive')"
      ],
      "execution_count": 1,
      "outputs": [
        {
          "output_type": "stream",
          "text": [
            "Go to this URL in a browser: https://accounts.google.com/o/oauth2/auth?client_id=947318989803-6bn6qk8qdgf4n4g3pfee6491hc0brc4i.apps.googleusercontent.com&redirect_uri=urn%3aietf%3awg%3aoauth%3a2.0%3aoob&response_type=code&scope=email%20https%3a%2f%2fwww.googleapis.com%2fauth%2fdocs.test%20https%3a%2f%2fwww.googleapis.com%2fauth%2fdrive%20https%3a%2f%2fwww.googleapis.com%2fauth%2fdrive.photos.readonly%20https%3a%2f%2fwww.googleapis.com%2fauth%2fpeopleapi.readonly\n",
            "\n",
            "Enter your authorization code:\n",
            "··········\n",
            "Mounted at /gdrive\n"
          ],
          "name": "stdout"
        }
      ]
    },
    {
      "cell_type": "code",
      "metadata": {
        "id": "lTBwvL0yVOuP",
        "colab_type": "code",
        "colab": {
          "base_uri": "https://localhost:8080/",
          "height": 34
        },
        "outputId": "fbde12b0-c92a-4093-fc98-8dc8c250e492"
      },
      "source": [
        "# silly example\n",
        "with open('/gdrive/My Drive/Colab Notebooks/foo.txt', 'w') as f:\n",
        "  f.write('Hello Google Drive!')\n",
        "!cat '/gdrive/My Drive/Colab Notebooks/foo.txt'"
      ],
      "execution_count": 4,
      "outputs": [
        {
          "output_type": "stream",
          "text": [
            "Hello Google Drive!"
          ],
          "name": "stdout"
        }
      ]
    },
    {
      "cell_type": "markdown",
      "metadata": {
        "id": "kZ8xy9wpUrJZ",
        "colab_type": "text"
      },
      "source": [
        "follow https://colab.research.google.com/notebooks/io.ipynb#scrollTo=VYC5CyAbAtU7\n",
        "\n",
        "project_id = 'Your_project_ID_here'"
      ]
    },
    {
      "cell_type": "markdown",
      "metadata": {
        "id": "VvFOnLdyUpya",
        "colab_type": "text"
      },
      "source": [
        "continue your code here"
      ]
    },
    {
      "cell_type": "code",
      "metadata": {
        "id": "_mTWKzPGUhaO",
        "colab_type": "code",
        "colab": {}
      },
      "source": [
        "drive.flush_and_unmount()\n",
        "print('All changes made in this colab session should now be visible in Drive.')"
      ],
      "execution_count": 0,
      "outputs": []
    }
  ]
}